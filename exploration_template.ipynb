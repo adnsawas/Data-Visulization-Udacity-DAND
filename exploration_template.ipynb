{
 "cells": [
  {
   "cell_type": "markdown",
   "metadata": {},
   "source": [
    "# Analyzing RITA Flights Data\n",
    "## by Adnan Sawas\n",
    "\n",
    "## Preliminary Wrangling\n",
    "\n",
    "The dataset is a collection of flights data from 2005 till 2008. Data is originally coming from the U.S. Department of Transportation's (DOT) Bureau of Transportation Statistics (BTS). BTS began collecting details on the causes of flight delays in June 2003. Summary statistics and raw data are made available to the public at the time the Air Travel Consumer Report is released."
   ]
  },
  {
   "cell_type": "code",
   "execution_count": 318,
   "metadata": {},
   "outputs": [],
   "source": [
    "# import all packages and set plots to be embedded inline\n",
    "import numpy as np\n",
    "import pandas as pd\n",
    "import matplotlib.pyplot as plt\n",
    "import seaborn as sb\n",
    "\n",
    "import requests\n",
    "import bz2\n",
    "import time\n",
    "\n",
    "%matplotlib inline"
   ]
  },
  {
   "cell_type": "markdown",
   "metadata": {},
   "source": [
    "## Downloading the data\n",
    "Below code, downloads the data files in bz2 compressed format, decompress them and wtire them to scv files"
   ]
  },
  {
   "cell_type": "code",
   "execution_count": 34,
   "metadata": {},
   "outputs": [
    {
     "name": "stdout",
     "output_type": "stream",
     "text": [
      "Year 1997:\n",
      "\tDownloading...\n",
      "\tDecompressing...\n",
      "\tWriting to csv file...\n",
      "\tDone\n",
      "Year 1998:\n",
      "\tDownloading...\n",
      "\tDecompressing...\n",
      "\tWriting to csv file...\n",
      "\tDone\n",
      "Year 1999:\n",
      "\tDownloading...\n",
      "\tDecompressing...\n",
      "\tWriting to csv file...\n",
      "\tDone\n",
      "Year 2000:\n",
      "\tDownloading...\n",
      "\tDecompressing...\n",
      "\tWriting to csv file...\n",
      "\tDone\n",
      "Year 2001:\n",
      "\tDownloading...\n",
      "\tDecompressing...\n",
      "\tWriting to csv file...\n",
      "\tDone\n",
      "Year 2002:\n",
      "\tDownloading...\n",
      "\tDecompressing...\n",
      "\tWriting to csv file...\n",
      "\tDone\n",
      "Year 2003:\n",
      "\tDownloading...\n",
      "\tDecompressing...\n",
      "\tWriting to csv file...\n",
      "\tDone\n",
      "Year 2004:\n",
      "\tDownloading...\n",
      "\tDecompressing...\n",
      "\tWriting to csv file...\n",
      "\tDone\n",
      "Year 2005:\n",
      "\tDownloading...\n",
      "\tDecompressing...\n",
      "\tWriting to csv file...\n",
      "\tDone\n",
      "Year 2006:\n",
      "\tDownloading...\n",
      "\tDecompressing...\n",
      "\tWriting to csv file...\n",
      "\tDone\n",
      "Year 2007:\n",
      "\tDownloading...\n",
      "\tDecompressing...\n",
      "\tWriting to csv file...\n",
      "\tDone\n",
      "Year 2008:\n",
      "\tDownloading...\n",
      "\tDecompressing...\n",
      "\tWriting to csv file...\n",
      "\tDone\n"
     ]
    }
   ],
   "source": [
    "base_url = \"http://stat-computing.org/dataexpo/2009/$$YEAR$$.csv.bz2\"\n",
    "# Download 12 years from 1997 to 2008\n",
    "for year in range(2005, 2009):\n",
    "    url = base_url.replace(\"$$YEAR$$\", str(year))\n",
    "    fileName = \"data/\" + str(year) + \".csv\"\n",
    "    \n",
    "    print(f\"Year {year}:\")\n",
    "    \n",
    "    # Download the dataset file\n",
    "    print(\"\\tDownloading...\")\n",
    "    response = requests.get(url)\n",
    "\n",
    "    print(\"\\tDecompressing...\")\n",
    "    decompressedContent = bz2.decompress(response.content)\n",
    "\n",
    "    # Write the decompressed response text into a csv file\n",
    "    print(\"\\tWriting to csv file...\")\n",
    "    with open(fileName, \"wb\") as file:\n",
    "        file.write(decompressedContent)\n",
    "    print(\"\\tDone\")"
   ]
  },
  {
   "cell_type": "markdown",
   "metadata": {},
   "source": [
    "## Loading Data\n",
    "Below code reads all downloaded `.csv` files and merges them into a single `pandas` dataframe."
   ]
  },
  {
   "cell_type": "code",
   "execution_count": 83,
   "metadata": {},
   "outputs": [
    {
     "name": "stdout",
     "output_type": "stream",
     "text": [
      "Total time to load all dataframes: 2.8101843992869058 minutes\n",
      "<class 'pandas.core.frame.DataFrame'>\n",
      "Int64Index: 28745461 entries, 0 to 7009727\n",
      "Data columns (total 29 columns):\n",
      "Year                 int64\n",
      "Month                int64\n",
      "DayofMonth           int64\n",
      "DayOfWeek            int64\n",
      "DepTime              float64\n",
      "CRSDepTime           int64\n",
      "ArrTime              float64\n",
      "CRSArrTime           int64\n",
      "UniqueCarrier        object\n",
      "FlightNum            int64\n",
      "TailNum              object\n",
      "ActualElapsedTime    float64\n",
      "CRSElapsedTime       float64\n",
      "AirTime              float64\n",
      "ArrDelay             float64\n",
      "DepDelay             float64\n",
      "Origin               object\n",
      "Dest                 object\n",
      "Distance             int64\n",
      "TaxiIn               float64\n",
      "TaxiOut              float64\n",
      "Cancelled            int64\n",
      "CancellationCode     object\n",
      "Diverted             int64\n",
      "CarrierDelay         float64\n",
      "WeatherDelay         float64\n",
      "NASDelay             float64\n",
      "SecurityDelay        float64\n",
      "LateAircraftDelay    float64\n",
      "dtypes: float64(14), int64(10), object(5)\n",
      "memory usage: 6.4+ GB\n",
      "Time to show df info: 0.42080031633377074\n"
     ]
    }
   ],
   "source": [
    "allFilesPath = [f\"data/{year}.csv\" for year in range(2005, 2009)]\n",
    "timeStart = time.time()\n",
    "df = pd.concat([pd.read_csv(filePath, encoding=\"ISO-8859-1\", low_memory=False) for filePath in allFilesPath])\n",
    "time2 = time.time()\n",
    "print(f\"Total time to load all dataframes: {(time2 - timeStart) / 60} minutes\")\n",
    "df.info()\n",
    "print(f\"Time to show df info: {(time.time() - time2) / 60}\")"
   ]
  },
  {
   "cell_type": "markdown",
   "metadata": {},
   "source": [
    "## Quick Data Cleaning\n",
    "Not all the columns are needed for the assesment so I am going to drop them for better performance\n",
    "\n",
    "Columns to drop are:\n",
    "- DepTime\n",
    "- CRSDepTime\n",
    "- ArrTime\n",
    "- CRSArrTime\n",
    "- FlightNum\n",
    "- TailNum\n",
    "- ActualElapsedTime\n",
    "- CRSElapsedTime\n",
    "- TaxIn\n",
    "- TaxOut\n",
    "- Diverted"
   ]
  },
  {
   "cell_type": "code",
   "execution_count": 85,
   "metadata": {},
   "outputs": [
    {
     "name": "stdout",
     "output_type": "stream",
     "text": [
      "<class 'pandas.core.frame.DataFrame'>\n",
      "Int64Index: 28745461 entries, 0 to 7009727\n",
      "Data columns (total 18 columns):\n",
      "Year                 int64\n",
      "Month                int64\n",
      "DayofMonth           int64\n",
      "DayOfWeek            int64\n",
      "UniqueCarrier        object\n",
      "AirTime              float64\n",
      "ArrDelay             float64\n",
      "DepDelay             float64\n",
      "Origin               object\n",
      "Dest                 object\n",
      "Distance             int64\n",
      "Cancelled            int64\n",
      "CancellationCode     object\n",
      "CarrierDelay         float64\n",
      "WeatherDelay         float64\n",
      "NASDelay             float64\n",
      "SecurityDelay        float64\n",
      "LateAircraftDelay    float64\n",
      "dtypes: float64(8), int64(6), object(4)\n",
      "memory usage: 4.1+ GB\n"
     ]
    }
   ],
   "source": [
    "df.drop(columns=[\"DepTime\", \"CRSDepTime\", \"ArrTime\", \"CRSArrTime\", \"FlightNum\", \"TailNum\", \"ActualElapsedTime\", \"CRSElapsedTime\", \"TaxiIn\", \"TaxiOut\", \"Diverted\"], axis=1, inplace=True)\n",
    "df.info()"
   ]
  },
  {
   "cell_type": "markdown",
   "metadata": {},
   "source": [
    "> Dropping unneeded columns saved about **1.5 GB** of memory."
   ]
  },
  {
   "cell_type": "markdown",
   "metadata": {},
   "source": [
    "### What is the struc ture of your dataset?\n",
    "\n",
    "|Column Name | Description |\n",
    "| -----: | ----------: |\n",
    "|Year    |1987-2008    |\n",
    "|Month   |1-12\n",
    "DayofMonth|\t1-31\n",
    "DayOfWeek |\t1 (Monday) - 7 (Sunday)\n",
    "DepTime\t  | actual departure time (local, hhmm)\n",
    "CRSDepTime |\tscheduled departure time (local, hhmm)\n",
    "ArrTime\tactual | arrival time (local, hhmm)\n",
    "CRSArrTime |\tscheduled arrival time (local, hhmm)\n",
    "UniqueCarrier |\tunique carrier code\n",
    "AirTime\t | in minutes\n",
    "ArrDelay |\tarrival delay, in minutes\n",
    "DepDelay |\tdeparture delay, in minutes\n",
    "Origin\t | origin IATA airport code\n",
    "Dest\t | destination IATA airport code\n",
    "Distance |\tin miles\n",
    "Cancelled |\twas the flight cancelled?\n",
    "CancellationCode |\treason for cancellation (A = carrier, B = weather, C = NAS, D = security)\n",
    "CarrierDelay |\tin minutes\n",
    "WeatherDelay |\tin minutes\n",
    "NASDelay |\tin minutes\n",
    "SecurityDelay |\tin minutes\n",
    "LateAircraftDelay |\tin minutes\n",
    "\n",
    "### What is/are the main feature(s) of interest in your dataset?\n",
    "\n",
    "The main features of interest are:\n",
    "- **Year:** How different variables changed through time\n",
    "- **ArrDelay & DeptDelay:** What are delay factors and main reasons for delay. Actually, I would add these two variables into one column `totalDelay` to avoid dealing with multiple columns.\n",
    "- **CancelationCode:** What are main reasons for cancelling a flight?\n",
    "- **AirTime:** What affects the Air time?\n"
   ]
  },
  {
   "cell_type": "code",
   "execution_count": 86,
   "metadata": {},
   "outputs": [],
   "source": [
    "# Convert Year column to string then to categorical\n",
    "df.Year = df.Year.astype(str)\n",
    "\n",
    "# Making the years ordered\n",
    "years_order = ['2005', '2006', '2007', '2008']\n",
    "ordered_cat = pd.api.types.CategoricalDtype(ordered = True, categories = years_order)\n",
    "df['Year'] = df['Year'].astype(ordered_cat)"
   ]
  },
  {
   "cell_type": "code",
   "execution_count": 88,
   "metadata": {},
   "outputs": [
    {
     "name": "stdout",
     "output_type": "stream",
     "text": [
      "<class 'pandas.core.frame.DataFrame'>\n",
      "Int64Index: 28745461 entries, 0 to 7009727\n",
      "Data columns (total 18 columns):\n",
      "Year                 category\n",
      "Month                int64\n",
      "DayofMonth           int64\n",
      "DayOfWeek            int64\n",
      "UniqueCarrier        object\n",
      "AirTime              float64\n",
      "ArrDelay             float64\n",
      "DepDelay             float64\n",
      "Origin               object\n",
      "Dest                 object\n",
      "Distance             int64\n",
      "Cancelled            int64\n",
      "CancellationCode     object\n",
      "CarrierDelay         float64\n",
      "WeatherDelay         float64\n",
      "NASDelay             float64\n",
      "SecurityDelay        float64\n",
      "LateAircraftDelay    float64\n",
      "dtypes: category(1), float64(8), int64(5), object(4)\n",
      "memory usage: 3.9+ GB\n"
     ]
    }
   ],
   "source": [
    "df.info()"
   ]
  },
  {
   "cell_type": "markdown",
   "metadata": {},
   "source": [
    "## Data Assessment"
   ]
  },
  {
   "cell_type": "code",
   "execution_count": 89,
   "metadata": {},
   "outputs": [
    {
     "data": {
      "text/html": [
       "<div>\n",
       "<style scoped>\n",
       "    .dataframe tbody tr th:only-of-type {\n",
       "        vertical-align: middle;\n",
       "    }\n",
       "\n",
       "    .dataframe tbody tr th {\n",
       "        vertical-align: top;\n",
       "    }\n",
       "\n",
       "    .dataframe thead th {\n",
       "        text-align: right;\n",
       "    }\n",
       "</style>\n",
       "<table border=\"1\" class=\"dataframe\">\n",
       "  <thead>\n",
       "    <tr style=\"text-align: right;\">\n",
       "      <th></th>\n",
       "      <th>Month</th>\n",
       "      <th>DayofMonth</th>\n",
       "      <th>DayOfWeek</th>\n",
       "      <th>AirTime</th>\n",
       "      <th>ArrDelay</th>\n",
       "      <th>DepDelay</th>\n",
       "      <th>Distance</th>\n",
       "      <th>Cancelled</th>\n",
       "      <th>CarrierDelay</th>\n",
       "      <th>WeatherDelay</th>\n",
       "      <th>NASDelay</th>\n",
       "      <th>SecurityDelay</th>\n",
       "      <th>LateAircraftDelay</th>\n",
       "    </tr>\n",
       "  </thead>\n",
       "  <tbody>\n",
       "    <tr>\n",
       "      <th>count</th>\n",
       "      <td>2.874546e+07</td>\n",
       "      <td>2.874546e+07</td>\n",
       "      <td>2.874546e+07</td>\n",
       "      <td>2.812696e+07</td>\n",
       "      <td>2.812696e+07</td>\n",
       "      <td>2.819280e+07</td>\n",
       "      <td>2.874546e+07</td>\n",
       "      <td>2.874546e+07</td>\n",
       "      <td>2.326047e+07</td>\n",
       "      <td>2.326047e+07</td>\n",
       "      <td>2.326047e+07</td>\n",
       "      <td>2.326047e+07</td>\n",
       "      <td>2.326047e+07</td>\n",
       "    </tr>\n",
       "    <tr>\n",
       "      <th>mean</th>\n",
       "      <td>6.484321e+00</td>\n",
       "      <td>1.572595e+01</td>\n",
       "      <td>3.938134e+00</td>\n",
       "      <td>1.027357e+02</td>\n",
       "      <td>8.574582e+00</td>\n",
       "      <td>1.004906e+01</td>\n",
       "      <td>7.244232e+02</td>\n",
       "      <td>1.926725e-02</td>\n",
       "      <td>4.236967e+00</td>\n",
       "      <td>8.572914e-01</td>\n",
       "      <td>4.472359e+00</td>\n",
       "      <td>2.810081e-02</td>\n",
       "      <td>5.506278e+00</td>\n",
       "    </tr>\n",
       "    <tr>\n",
       "      <th>std</th>\n",
       "      <td>3.417658e+00</td>\n",
       "      <td>8.787606e+00</td>\n",
       "      <td>1.990655e+00</td>\n",
       "      <td>7.389199e+01</td>\n",
       "      <td>3.723144e+01</td>\n",
       "      <td>3.411935e+01</td>\n",
       "      <td>5.675240e+02</td>\n",
       "      <td>1.374628e-01</td>\n",
       "      <td>2.140553e+01</td>\n",
       "      <td>9.915769e+00</td>\n",
       "      <td>1.744351e+01</td>\n",
       "      <td>1.192442e+00</td>\n",
       "      <td>2.184749e+01</td>\n",
       "    </tr>\n",
       "    <tr>\n",
       "      <th>min</th>\n",
       "      <td>1.000000e+00</td>\n",
       "      <td>1.000000e+00</td>\n",
       "      <td>1.000000e+00</td>\n",
       "      <td>-1.428000e+03</td>\n",
       "      <td>-9.390000e+02</td>\n",
       "      <td>-1.200000e+03</td>\n",
       "      <td>1.100000e+01</td>\n",
       "      <td>0.000000e+00</td>\n",
       "      <td>0.000000e+00</td>\n",
       "      <td>0.000000e+00</td>\n",
       "      <td>-4.900000e+01</td>\n",
       "      <td>0.000000e+00</td>\n",
       "      <td>0.000000e+00</td>\n",
       "    </tr>\n",
       "    <tr>\n",
       "      <th>25%</th>\n",
       "      <td>4.000000e+00</td>\n",
       "      <td>8.000000e+00</td>\n",
       "      <td>2.000000e+00</td>\n",
       "      <td>5.500000e+01</td>\n",
       "      <td>-9.000000e+00</td>\n",
       "      <td>-4.000000e+00</td>\n",
       "      <td>3.190000e+02</td>\n",
       "      <td>0.000000e+00</td>\n",
       "      <td>0.000000e+00</td>\n",
       "      <td>0.000000e+00</td>\n",
       "      <td>0.000000e+00</td>\n",
       "      <td>0.000000e+00</td>\n",
       "      <td>0.000000e+00</td>\n",
       "    </tr>\n",
       "    <tr>\n",
       "      <th>50%</th>\n",
       "      <td>6.000000e+00</td>\n",
       "      <td>1.600000e+01</td>\n",
       "      <td>4.000000e+00</td>\n",
       "      <td>8.400000e+01</td>\n",
       "      <td>-1.000000e+00</td>\n",
       "      <td>0.000000e+00</td>\n",
       "      <td>5.700000e+02</td>\n",
       "      <td>0.000000e+00</td>\n",
       "      <td>0.000000e+00</td>\n",
       "      <td>0.000000e+00</td>\n",
       "      <td>0.000000e+00</td>\n",
       "      <td>0.000000e+00</td>\n",
       "      <td>0.000000e+00</td>\n",
       "    </tr>\n",
       "    <tr>\n",
       "      <th>75%</th>\n",
       "      <td>9.000000e+00</td>\n",
       "      <td>2.300000e+01</td>\n",
       "      <td>6.000000e+00</td>\n",
       "      <td>1.310000e+02</td>\n",
       "      <td>1.200000e+01</td>\n",
       "      <td>9.000000e+00</td>\n",
       "      <td>9.510000e+02</td>\n",
       "      <td>0.000000e+00</td>\n",
       "      <td>0.000000e+00</td>\n",
       "      <td>0.000000e+00</td>\n",
       "      <td>0.000000e+00</td>\n",
       "      <td>0.000000e+00</td>\n",
       "      <td>0.000000e+00</td>\n",
       "    </tr>\n",
       "    <tr>\n",
       "      <th>max</th>\n",
       "      <td>1.200000e+01</td>\n",
       "      <td>3.100000e+01</td>\n",
       "      <td>7.000000e+00</td>\n",
       "      <td>1.958000e+03</td>\n",
       "      <td>2.598000e+03</td>\n",
       "      <td>2.601000e+03</td>\n",
       "      <td>4.962000e+03</td>\n",
       "      <td>1.000000e+00</td>\n",
       "      <td>2.580000e+03</td>\n",
       "      <td>1.510000e+03</td>\n",
       "      <td>1.392000e+03</td>\n",
       "      <td>3.920000e+02</td>\n",
       "      <td>1.366000e+03</td>\n",
       "    </tr>\n",
       "  </tbody>\n",
       "</table>\n",
       "</div>"
      ],
      "text/plain": [
       "              Month    DayofMonth     DayOfWeek       AirTime      ArrDelay  \\\n",
       "count  2.874546e+07  2.874546e+07  2.874546e+07  2.812696e+07  2.812696e+07   \n",
       "mean   6.484321e+00  1.572595e+01  3.938134e+00  1.027357e+02  8.574582e+00   \n",
       "std    3.417658e+00  8.787606e+00  1.990655e+00  7.389199e+01  3.723144e+01   \n",
       "min    1.000000e+00  1.000000e+00  1.000000e+00 -1.428000e+03 -9.390000e+02   \n",
       "25%    4.000000e+00  8.000000e+00  2.000000e+00  5.500000e+01 -9.000000e+00   \n",
       "50%    6.000000e+00  1.600000e+01  4.000000e+00  8.400000e+01 -1.000000e+00   \n",
       "75%    9.000000e+00  2.300000e+01  6.000000e+00  1.310000e+02  1.200000e+01   \n",
       "max    1.200000e+01  3.100000e+01  7.000000e+00  1.958000e+03  2.598000e+03   \n",
       "\n",
       "           DepDelay      Distance     Cancelled  CarrierDelay  WeatherDelay  \\\n",
       "count  2.819280e+07  2.874546e+07  2.874546e+07  2.326047e+07  2.326047e+07   \n",
       "mean   1.004906e+01  7.244232e+02  1.926725e-02  4.236967e+00  8.572914e-01   \n",
       "std    3.411935e+01  5.675240e+02  1.374628e-01  2.140553e+01  9.915769e+00   \n",
       "min   -1.200000e+03  1.100000e+01  0.000000e+00  0.000000e+00  0.000000e+00   \n",
       "25%   -4.000000e+00  3.190000e+02  0.000000e+00  0.000000e+00  0.000000e+00   \n",
       "50%    0.000000e+00  5.700000e+02  0.000000e+00  0.000000e+00  0.000000e+00   \n",
       "75%    9.000000e+00  9.510000e+02  0.000000e+00  0.000000e+00  0.000000e+00   \n",
       "max    2.601000e+03  4.962000e+03  1.000000e+00  2.580000e+03  1.510000e+03   \n",
       "\n",
       "           NASDelay  SecurityDelay  LateAircraftDelay  \n",
       "count  2.326047e+07   2.326047e+07       2.326047e+07  \n",
       "mean   4.472359e+00   2.810081e-02       5.506278e+00  \n",
       "std    1.744351e+01   1.192442e+00       2.184749e+01  \n",
       "min   -4.900000e+01   0.000000e+00       0.000000e+00  \n",
       "25%    0.000000e+00   0.000000e+00       0.000000e+00  \n",
       "50%    0.000000e+00   0.000000e+00       0.000000e+00  \n",
       "75%    0.000000e+00   0.000000e+00       0.000000e+00  \n",
       "max    1.392000e+03   3.920000e+02       1.366000e+03  "
      ]
     },
     "execution_count": 89,
     "metadata": {},
     "output_type": "execute_result"
    }
   ],
   "source": [
    "df.describe()"
   ]
  },
  {
   "cell_type": "code",
   "execution_count": 383,
   "metadata": {},
   "outputs": [
    {
     "data": {
      "text/html": [
       "<div>\n",
       "<style scoped>\n",
       "    .dataframe tbody tr th:only-of-type {\n",
       "        vertical-align: middle;\n",
       "    }\n",
       "\n",
       "    .dataframe tbody tr th {\n",
       "        vertical-align: top;\n",
       "    }\n",
       "\n",
       "    .dataframe thead th {\n",
       "        text-align: right;\n",
       "    }\n",
       "</style>\n",
       "<table border=\"1\" class=\"dataframe\">\n",
       "  <thead>\n",
       "    <tr style=\"text-align: right;\">\n",
       "      <th></th>\n",
       "      <th>Year</th>\n",
       "      <th>Month</th>\n",
       "      <th>DayofMonth</th>\n",
       "      <th>DayOfWeek</th>\n",
       "      <th>UniqueCarrier</th>\n",
       "      <th>AirTime</th>\n",
       "      <th>ArrDelay</th>\n",
       "      <th>DepDelay</th>\n",
       "      <th>Origin</th>\n",
       "      <th>Dest</th>\n",
       "      <th>Distance</th>\n",
       "      <th>Cancelled</th>\n",
       "      <th>CancellationCode</th>\n",
       "      <th>CarrierDelay</th>\n",
       "      <th>WeatherDelay</th>\n",
       "      <th>NASDelay</th>\n",
       "      <th>SecurityDelay</th>\n",
       "      <th>LateAircraftDelay</th>\n",
       "      <th>totalDelay</th>\n",
       "    </tr>\n",
       "  </thead>\n",
       "  <tbody>\n",
       "    <tr>\n",
       "      <th>0</th>\n",
       "      <td>2005</td>\n",
       "      <td>1</td>\n",
       "      <td>28</td>\n",
       "      <td>5</td>\n",
       "      <td>UA</td>\n",
       "      <td>131.0</td>\n",
       "      <td>-18.0</td>\n",
       "      <td>-2.0</td>\n",
       "      <td>BOS</td>\n",
       "      <td>ORD</td>\n",
       "      <td>867</td>\n",
       "      <td>0</td>\n",
       "      <td>NaN</td>\n",
       "      <td>0.0</td>\n",
       "      <td>0.0</td>\n",
       "      <td>0.0</td>\n",
       "      <td>0.0</td>\n",
       "      <td>0.0</td>\n",
       "      <td>-20.0</td>\n",
       "    </tr>\n",
       "    <tr>\n",
       "      <th>1</th>\n",
       "      <td>2005</td>\n",
       "      <td>1</td>\n",
       "      <td>29</td>\n",
       "      <td>6</td>\n",
       "      <td>UA</td>\n",
       "      <td>136.0</td>\n",
       "      <td>-23.0</td>\n",
       "      <td>-6.0</td>\n",
       "      <td>BOS</td>\n",
       "      <td>ORD</td>\n",
       "      <td>867</td>\n",
       "      <td>0</td>\n",
       "      <td>NaN</td>\n",
       "      <td>0.0</td>\n",
       "      <td>0.0</td>\n",
       "      <td>0.0</td>\n",
       "      <td>0.0</td>\n",
       "      <td>0.0</td>\n",
       "      <td>-29.0</td>\n",
       "    </tr>\n",
       "    <tr>\n",
       "      <th>2</th>\n",
       "      <td>2005</td>\n",
       "      <td>1</td>\n",
       "      <td>30</td>\n",
       "      <td>7</td>\n",
       "      <td>UA</td>\n",
       "      <td>131.0</td>\n",
       "      <td>-24.0</td>\n",
       "      <td>-7.0</td>\n",
       "      <td>BOS</td>\n",
       "      <td>ORD</td>\n",
       "      <td>867</td>\n",
       "      <td>0</td>\n",
       "      <td>NaN</td>\n",
       "      <td>0.0</td>\n",
       "      <td>0.0</td>\n",
       "      <td>0.0</td>\n",
       "      <td>0.0</td>\n",
       "      <td>0.0</td>\n",
       "      <td>-31.0</td>\n",
       "    </tr>\n",
       "    <tr>\n",
       "      <th>3</th>\n",
       "      <td>2005</td>\n",
       "      <td>1</td>\n",
       "      <td>31</td>\n",
       "      <td>1</td>\n",
       "      <td>UA</td>\n",
       "      <td>129.0</td>\n",
       "      <td>-33.0</td>\n",
       "      <td>-9.0</td>\n",
       "      <td>BOS</td>\n",
       "      <td>ORD</td>\n",
       "      <td>867</td>\n",
       "      <td>0</td>\n",
       "      <td>NaN</td>\n",
       "      <td>0.0</td>\n",
       "      <td>0.0</td>\n",
       "      <td>0.0</td>\n",
       "      <td>0.0</td>\n",
       "      <td>0.0</td>\n",
       "      <td>-42.0</td>\n",
       "    </tr>\n",
       "    <tr>\n",
       "      <th>4</th>\n",
       "      <td>2005</td>\n",
       "      <td>1</td>\n",
       "      <td>2</td>\n",
       "      <td>7</td>\n",
       "      <td>UA</td>\n",
       "      <td>106.0</td>\n",
       "      <td>3.0</td>\n",
       "      <td>34.0</td>\n",
       "      <td>ORD</td>\n",
       "      <td>BOS</td>\n",
       "      <td>867</td>\n",
       "      <td>0</td>\n",
       "      <td>NaN</td>\n",
       "      <td>0.0</td>\n",
       "      <td>0.0</td>\n",
       "      <td>0.0</td>\n",
       "      <td>0.0</td>\n",
       "      <td>0.0</td>\n",
       "      <td>37.0</td>\n",
       "    </tr>\n",
       "  </tbody>\n",
       "</table>\n",
       "</div>"
      ],
      "text/plain": [
       "   Year  Month  DayofMonth  DayOfWeek UniqueCarrier  AirTime  ArrDelay  \\\n",
       "0  2005      1          28          5            UA    131.0     -18.0   \n",
       "1  2005      1          29          6            UA    136.0     -23.0   \n",
       "2  2005      1          30          7            UA    131.0     -24.0   \n",
       "3  2005      1          31          1            UA    129.0     -33.0   \n",
       "4  2005      1           2          7            UA    106.0       3.0   \n",
       "\n",
       "   DepDelay Origin Dest  Distance  Cancelled CancellationCode  CarrierDelay  \\\n",
       "0      -2.0    BOS  ORD       867          0              NaN           0.0   \n",
       "1      -6.0    BOS  ORD       867          0              NaN           0.0   \n",
       "2      -7.0    BOS  ORD       867          0              NaN           0.0   \n",
       "3      -9.0    BOS  ORD       867          0              NaN           0.0   \n",
       "4      34.0    ORD  BOS       867          0              NaN           0.0   \n",
       "\n",
       "   WeatherDelay  NASDelay  SecurityDelay  LateAircraftDelay  totalDelay  \n",
       "0           0.0       0.0            0.0                0.0       -20.0  \n",
       "1           0.0       0.0            0.0                0.0       -29.0  \n",
       "2           0.0       0.0            0.0                0.0       -31.0  \n",
       "3           0.0       0.0            0.0                0.0       -42.0  \n",
       "4           0.0       0.0            0.0                0.0        37.0  "
      ]
     },
     "execution_count": 383,
     "metadata": {},
     "output_type": "execute_result"
    }
   ],
   "source": [
    "df.head()"
   ]
  },
  {
   "cell_type": "code",
   "execution_count": 384,
   "metadata": {
    "scrolled": true
   },
   "outputs": [
    {
     "data": {
      "text/html": [
       "<div>\n",
       "<style scoped>\n",
       "    .dataframe tbody tr th:only-of-type {\n",
       "        vertical-align: middle;\n",
       "    }\n",
       "\n",
       "    .dataframe tbody tr th {\n",
       "        vertical-align: top;\n",
       "    }\n",
       "\n",
       "    .dataframe thead th {\n",
       "        text-align: right;\n",
       "    }\n",
       "</style>\n",
       "<table border=\"1\" class=\"dataframe\">\n",
       "  <thead>\n",
       "    <tr style=\"text-align: right;\">\n",
       "      <th></th>\n",
       "      <th>Year</th>\n",
       "      <th>Month</th>\n",
       "      <th>DayofMonth</th>\n",
       "      <th>DayOfWeek</th>\n",
       "      <th>UniqueCarrier</th>\n",
       "      <th>AirTime</th>\n",
       "      <th>ArrDelay</th>\n",
       "      <th>DepDelay</th>\n",
       "      <th>Origin</th>\n",
       "      <th>Dest</th>\n",
       "      <th>Distance</th>\n",
       "      <th>Cancelled</th>\n",
       "      <th>CancellationCode</th>\n",
       "      <th>CarrierDelay</th>\n",
       "      <th>WeatherDelay</th>\n",
       "      <th>NASDelay</th>\n",
       "      <th>SecurityDelay</th>\n",
       "      <th>LateAircraftDelay</th>\n",
       "      <th>totalDelay</th>\n",
       "    </tr>\n",
       "  </thead>\n",
       "  <tbody>\n",
       "    <tr>\n",
       "      <th>0</th>\n",
       "      <td>2005</td>\n",
       "      <td>1</td>\n",
       "      <td>28</td>\n",
       "      <td>5</td>\n",
       "      <td>UA</td>\n",
       "      <td>131.0</td>\n",
       "      <td>-18.0</td>\n",
       "      <td>-2.0</td>\n",
       "      <td>BOS</td>\n",
       "      <td>ORD</td>\n",
       "      <td>867</td>\n",
       "      <td>0</td>\n",
       "      <td>NaN</td>\n",
       "      <td>0.0</td>\n",
       "      <td>0.0</td>\n",
       "      <td>0.0</td>\n",
       "      <td>0.0</td>\n",
       "      <td>0.0</td>\n",
       "      <td>-20.0</td>\n",
       "    </tr>\n",
       "    <tr>\n",
       "      <th>1</th>\n",
       "      <td>2005</td>\n",
       "      <td>1</td>\n",
       "      <td>29</td>\n",
       "      <td>6</td>\n",
       "      <td>UA</td>\n",
       "      <td>136.0</td>\n",
       "      <td>-23.0</td>\n",
       "      <td>-6.0</td>\n",
       "      <td>BOS</td>\n",
       "      <td>ORD</td>\n",
       "      <td>867</td>\n",
       "      <td>0</td>\n",
       "      <td>NaN</td>\n",
       "      <td>0.0</td>\n",
       "      <td>0.0</td>\n",
       "      <td>0.0</td>\n",
       "      <td>0.0</td>\n",
       "      <td>0.0</td>\n",
       "      <td>-29.0</td>\n",
       "    </tr>\n",
       "    <tr>\n",
       "      <th>2</th>\n",
       "      <td>2005</td>\n",
       "      <td>1</td>\n",
       "      <td>30</td>\n",
       "      <td>7</td>\n",
       "      <td>UA</td>\n",
       "      <td>131.0</td>\n",
       "      <td>-24.0</td>\n",
       "      <td>-7.0</td>\n",
       "      <td>BOS</td>\n",
       "      <td>ORD</td>\n",
       "      <td>867</td>\n",
       "      <td>0</td>\n",
       "      <td>NaN</td>\n",
       "      <td>0.0</td>\n",
       "      <td>0.0</td>\n",
       "      <td>0.0</td>\n",
       "      <td>0.0</td>\n",
       "      <td>0.0</td>\n",
       "      <td>-31.0</td>\n",
       "    </tr>\n",
       "    <tr>\n",
       "      <th>3</th>\n",
       "      <td>2005</td>\n",
       "      <td>1</td>\n",
       "      <td>31</td>\n",
       "      <td>1</td>\n",
       "      <td>UA</td>\n",
       "      <td>129.0</td>\n",
       "      <td>-33.0</td>\n",
       "      <td>-9.0</td>\n",
       "      <td>BOS</td>\n",
       "      <td>ORD</td>\n",
       "      <td>867</td>\n",
       "      <td>0</td>\n",
       "      <td>NaN</td>\n",
       "      <td>0.0</td>\n",
       "      <td>0.0</td>\n",
       "      <td>0.0</td>\n",
       "      <td>0.0</td>\n",
       "      <td>0.0</td>\n",
       "      <td>-42.0</td>\n",
       "    </tr>\n",
       "    <tr>\n",
       "      <th>4</th>\n",
       "      <td>2005</td>\n",
       "      <td>1</td>\n",
       "      <td>2</td>\n",
       "      <td>7</td>\n",
       "      <td>UA</td>\n",
       "      <td>106.0</td>\n",
       "      <td>3.0</td>\n",
       "      <td>34.0</td>\n",
       "      <td>ORD</td>\n",
       "      <td>BOS</td>\n",
       "      <td>867</td>\n",
       "      <td>0</td>\n",
       "      <td>NaN</td>\n",
       "      <td>0.0</td>\n",
       "      <td>0.0</td>\n",
       "      <td>0.0</td>\n",
       "      <td>0.0</td>\n",
       "      <td>0.0</td>\n",
       "      <td>37.0</td>\n",
       "    </tr>\n",
       "  </tbody>\n",
       "</table>\n",
       "</div>"
      ],
      "text/plain": [
       "   Year  Month  DayofMonth  DayOfWeek UniqueCarrier  AirTime  ArrDelay  \\\n",
       "0  2005      1          28          5            UA    131.0     -18.0   \n",
       "1  2005      1          29          6            UA    136.0     -23.0   \n",
       "2  2005      1          30          7            UA    131.0     -24.0   \n",
       "3  2005      1          31          1            UA    129.0     -33.0   \n",
       "4  2005      1           2          7            UA    106.0       3.0   \n",
       "\n",
       "   DepDelay Origin Dest  Distance  Cancelled CancellationCode  CarrierDelay  \\\n",
       "0      -2.0    BOS  ORD       867          0              NaN           0.0   \n",
       "1      -6.0    BOS  ORD       867          0              NaN           0.0   \n",
       "2      -7.0    BOS  ORD       867          0              NaN           0.0   \n",
       "3      -9.0    BOS  ORD       867          0              NaN           0.0   \n",
       "4      34.0    ORD  BOS       867          0              NaN           0.0   \n",
       "\n",
       "   WeatherDelay  NASDelay  SecurityDelay  LateAircraftDelay  totalDelay  \n",
       "0           0.0       0.0            0.0                0.0       -20.0  \n",
       "1           0.0       0.0            0.0                0.0       -29.0  \n",
       "2           0.0       0.0            0.0                0.0       -31.0  \n",
       "3           0.0       0.0            0.0                0.0       -42.0  \n",
       "4           0.0       0.0            0.0                0.0        37.0  "
      ]
     },
     "execution_count": 384,
     "metadata": {},
     "output_type": "execute_result"
    }
   ],
   "source": [
    "# Add the totalDelay column\n",
    "df['totalDelay'] = df.DepDelay + df.ArrDelay\n",
    "df.head()"
   ]
  },
  {
   "cell_type": "code",
   "execution_count": 385,
   "metadata": {
    "scrolled": true
   },
   "outputs": [
    {
     "data": {
      "text/html": [
       "<div>\n",
       "<style scoped>\n",
       "    .dataframe tbody tr th:only-of-type {\n",
       "        vertical-align: middle;\n",
       "    }\n",
       "\n",
       "    .dataframe tbody tr th {\n",
       "        vertical-align: top;\n",
       "    }\n",
       "\n",
       "    .dataframe thead th {\n",
       "        text-align: right;\n",
       "    }\n",
       "</style>\n",
       "<table border=\"1\" class=\"dataframe\">\n",
       "  <thead>\n",
       "    <tr style=\"text-align: right;\">\n",
       "      <th></th>\n",
       "      <th>Year</th>\n",
       "      <th>Month</th>\n",
       "      <th>DayofMonth</th>\n",
       "      <th>DayOfWeek</th>\n",
       "      <th>UniqueCarrier</th>\n",
       "      <th>AirTime</th>\n",
       "      <th>ArrDelay</th>\n",
       "      <th>DepDelay</th>\n",
       "      <th>Origin</th>\n",
       "      <th>Dest</th>\n",
       "      <th>Distance</th>\n",
       "      <th>Cancelled</th>\n",
       "      <th>CancellationCode</th>\n",
       "      <th>CarrierDelay</th>\n",
       "      <th>WeatherDelay</th>\n",
       "      <th>NASDelay</th>\n",
       "      <th>SecurityDelay</th>\n",
       "      <th>LateAircraftDelay</th>\n",
       "      <th>totalDelay</th>\n",
       "    </tr>\n",
       "  </thead>\n",
       "  <tbody>\n",
       "    <tr>\n",
       "      <th>0</th>\n",
       "      <td>2005</td>\n",
       "      <td>1</td>\n",
       "      <td>28</td>\n",
       "      <td>5</td>\n",
       "      <td>UA</td>\n",
       "      <td>131.0</td>\n",
       "      <td>-18.0</td>\n",
       "      <td>-2.0</td>\n",
       "      <td>BOS</td>\n",
       "      <td>ORD</td>\n",
       "      <td>867</td>\n",
       "      <td>0</td>\n",
       "      <td>NaN</td>\n",
       "      <td>0.0</td>\n",
       "      <td>0.0</td>\n",
       "      <td>0.0</td>\n",
       "      <td>0.0</td>\n",
       "      <td>0.0</td>\n",
       "      <td>-20.0</td>\n",
       "    </tr>\n",
       "    <tr>\n",
       "      <th>1</th>\n",
       "      <td>2005</td>\n",
       "      <td>1</td>\n",
       "      <td>29</td>\n",
       "      <td>6</td>\n",
       "      <td>UA</td>\n",
       "      <td>136.0</td>\n",
       "      <td>-23.0</td>\n",
       "      <td>-6.0</td>\n",
       "      <td>BOS</td>\n",
       "      <td>ORD</td>\n",
       "      <td>867</td>\n",
       "      <td>0</td>\n",
       "      <td>NaN</td>\n",
       "      <td>0.0</td>\n",
       "      <td>0.0</td>\n",
       "      <td>0.0</td>\n",
       "      <td>0.0</td>\n",
       "      <td>0.0</td>\n",
       "      <td>-29.0</td>\n",
       "    </tr>\n",
       "    <tr>\n",
       "      <th>2</th>\n",
       "      <td>2005</td>\n",
       "      <td>1</td>\n",
       "      <td>30</td>\n",
       "      <td>7</td>\n",
       "      <td>UA</td>\n",
       "      <td>131.0</td>\n",
       "      <td>-24.0</td>\n",
       "      <td>-7.0</td>\n",
       "      <td>BOS</td>\n",
       "      <td>ORD</td>\n",
       "      <td>867</td>\n",
       "      <td>0</td>\n",
       "      <td>NaN</td>\n",
       "      <td>0.0</td>\n",
       "      <td>0.0</td>\n",
       "      <td>0.0</td>\n",
       "      <td>0.0</td>\n",
       "      <td>0.0</td>\n",
       "      <td>-31.0</td>\n",
       "    </tr>\n",
       "    <tr>\n",
       "      <th>3</th>\n",
       "      <td>2005</td>\n",
       "      <td>1</td>\n",
       "      <td>31</td>\n",
       "      <td>1</td>\n",
       "      <td>UA</td>\n",
       "      <td>129.0</td>\n",
       "      <td>-33.0</td>\n",
       "      <td>-9.0</td>\n",
       "      <td>BOS</td>\n",
       "      <td>ORD</td>\n",
       "      <td>867</td>\n",
       "      <td>0</td>\n",
       "      <td>NaN</td>\n",
       "      <td>0.0</td>\n",
       "      <td>0.0</td>\n",
       "      <td>0.0</td>\n",
       "      <td>0.0</td>\n",
       "      <td>0.0</td>\n",
       "      <td>-42.0</td>\n",
       "    </tr>\n",
       "    <tr>\n",
       "      <th>4</th>\n",
       "      <td>2005</td>\n",
       "      <td>1</td>\n",
       "      <td>2</td>\n",
       "      <td>7</td>\n",
       "      <td>UA</td>\n",
       "      <td>106.0</td>\n",
       "      <td>3.0</td>\n",
       "      <td>34.0</td>\n",
       "      <td>ORD</td>\n",
       "      <td>BOS</td>\n",
       "      <td>867</td>\n",
       "      <td>0</td>\n",
       "      <td>NaN</td>\n",
       "      <td>0.0</td>\n",
       "      <td>0.0</td>\n",
       "      <td>0.0</td>\n",
       "      <td>0.0</td>\n",
       "      <td>0.0</td>\n",
       "      <td>37.0</td>\n",
       "    </tr>\n",
       "  </tbody>\n",
       "</table>\n",
       "</div>"
      ],
      "text/plain": [
       "   Year  Month  DayofMonth  DayOfWeek UniqueCarrier  AirTime  ArrDelay  \\\n",
       "0  2005      1          28          5            UA    131.0     -18.0   \n",
       "1  2005      1          29          6            UA    136.0     -23.0   \n",
       "2  2005      1          30          7            UA    131.0     -24.0   \n",
       "3  2005      1          31          1            UA    129.0     -33.0   \n",
       "4  2005      1           2          7            UA    106.0       3.0   \n",
       "\n",
       "   DepDelay Origin Dest  Distance  Cancelled CancellationCode  CarrierDelay  \\\n",
       "0      -2.0    BOS  ORD       867          0              NaN           0.0   \n",
       "1      -6.0    BOS  ORD       867          0              NaN           0.0   \n",
       "2      -7.0    BOS  ORD       867          0              NaN           0.0   \n",
       "3      -9.0    BOS  ORD       867          0              NaN           0.0   \n",
       "4      34.0    ORD  BOS       867          0              NaN           0.0   \n",
       "\n",
       "   WeatherDelay  NASDelay  SecurityDelay  LateAircraftDelay  totalDelay  \n",
       "0           0.0       0.0            0.0                0.0       -20.0  \n",
       "1           0.0       0.0            0.0                0.0       -29.0  \n",
       "2           0.0       0.0            0.0                0.0       -31.0  \n",
       "3           0.0       0.0            0.0                0.0       -42.0  \n",
       "4           0.0       0.0            0.0                0.0        37.0  "
      ]
     },
     "execution_count": 385,
     "metadata": {},
     "output_type": "execute_result"
    }
   ],
   "source": [
    "df.head()"
   ]
  },
  {
   "cell_type": "code",
   "execution_count": 400,
   "metadata": {},
   "outputs": [
    {
     "data": {
      "text/plain": [
       "array(['UA', 'US', 'WN', 'NW', 'OH', 'OO', 'XE', 'TZ', 'DL', 'EV', 'FL',\n",
       "       'HA', 'HP', 'MQ', 'AA', 'AS', 'B6', 'CO', 'DH', 'F9', 'YV', 'AQ',\n",
       "       '9E'], dtype=object)"
      ]
     },
     "execution_count": 400,
     "metadata": {},
     "output_type": "execute_result"
    }
   ],
   "source": [
    "# How many carriers?\n",
    "df.UniqueCarrier.unique()"
   ]
  },
  {
   "cell_type": "markdown",
   "metadata": {},
   "source": [
    "## Univariate Exploration\n",
    "\n",
    "Let's see how many flights were cancelled every year"
   ]
  },
  {
   "cell_type": "code",
   "execution_count": 398,
   "metadata": {},
   "outputs": [
    {
     "data": {
      "text/plain": [
       "1.9267250575664796"
      ]
     },
     "execution_count": 398,
     "metadata": {},
     "output_type": "execute_result"
    }
   ],
   "source": [
    "# Cancelled flights percentage\n",
    "(df[df.Cancelled == 1].shape[0] / df.shape[0]) * 100"
   ]
  },
  {
   "cell_type": "code",
   "execution_count": 387,
   "metadata": {},
   "outputs": [
    {
     "name": "stdout",
     "output_type": "stream",
     "text": [
      "2005    133730\n",
      "2006    121934\n",
      "2007    160748\n",
      "2008    137434\n",
      "Name: Year, dtype: int64\n"
     ]
    },
    {
     "data": {
      "image/png": "[encoded data removed]",
      "text/plain": [
       "<Figure size 432x288 with 1 Axes>"
      ]
     },
     "metadata": {
      "needs_background": "light"
     },
     "output_type": "display_data"
    }
   ],
   "source": [
    "canceledFlights = df[df.Cancelled == True].Year.value_counts().sort_index()\n",
    "print(canceledFlights)\n",
    "canceledFlights.plot(kind=\"bar\");"
   ]
  },
  {
   "cell_type": "markdown",
   "metadata": {},
   "source": [
    "It seems year 2007 had the maximum number of flights. However, this might be due to heavy flight schedule in 2007. It is better to compare percentages of cancelled flight."
   ]
  },
  {
   "cell_type": "code",
   "execution_count": 388,
   "metadata": {},
   "outputs": [
    {
     "data": {
      "text/plain": [
       "2005    7140596\n",
       "2006    7141922\n",
       "2007    7453215\n",
       "2008    7009728\n",
       "Name: Year, dtype: int64"
      ]
     },
     "execution_count": 388,
     "metadata": {},
     "output_type": "execute_result"
    }
   ],
   "source": [
    "dfYearsCount = df.Year.value_counts().sort_index()\n",
    "dfYearsCount"
   ]
  },
  {
   "cell_type": "code",
   "execution_count": 389,
   "metadata": {},
   "outputs": [
    {
     "data": {
      "text/plain": [
       "2005    0.018728\n",
       "2006    0.017073\n",
       "2007    0.021568\n",
       "2008    0.019606\n",
       "Name: Year, dtype: float64"
      ]
     },
     "execution_count": 389,
     "metadata": {},
     "output_type": "execute_result"
    }
   ],
   "source": [
    "canceledFlightsPercentage = canceledFlights / dfYearsCount\n",
    "canceledFlightsPercentage"
   ]
  },
  {
   "cell_type": "code",
   "execution_count": 390,
   "metadata": {},
   "outputs": [
    {
     "ename": "TypeError",
     "evalue": "'str' object is not callable",
     "output_type": "error",
     "traceback": [
      "\u001b[0;31m---------------------------------------------------------------------------\u001b[0m",
      "\u001b[0;31mTypeError\u001b[0m                                 Traceback (most recent call last)",
      "\u001b[0;32m<ipython-input-390-f5378d90f761>\u001b[0m in \u001b[0;36m<module>\u001b[0;34m\u001b[0m\n\u001b[1;32m      1\u001b[0m \u001b[0mcanceledFlightsPercentage\u001b[0m\u001b[0;34m.\u001b[0m\u001b[0mplot\u001b[0m\u001b[0;34m(\u001b[0m\u001b[0mkind\u001b[0m\u001b[0;34m=\u001b[0m\u001b[0;34m\"bar\"\u001b[0m\u001b[0;34m)\u001b[0m\u001b[0;34m;\u001b[0m\u001b[0;34m\u001b[0m\u001b[0;34m\u001b[0m\u001b[0m\n\u001b[0;32m----> 2\u001b[0;31m \u001b[0mplt\u001b[0m\u001b[0;34m.\u001b[0m\u001b[0mxlabel\u001b[0m\u001b[0;34m(\u001b[0m\u001b[0;34m\"Year\"\u001b[0m\u001b[0;34m)\u001b[0m\u001b[0;34m\u001b[0m\u001b[0;34m\u001b[0m\u001b[0m\n\u001b[0m\u001b[1;32m      3\u001b[0m \u001b[0mplt\u001b[0m\u001b[0;34m.\u001b[0m\u001b[0mylabel\u001b[0m\u001b[0;34m(\u001b[0m\u001b[0;34m\"Percentage\"\u001b[0m\u001b[0;34m)\u001b[0m\u001b[0;34m\u001b[0m\u001b[0;34m\u001b[0m\u001b[0m\n\u001b[1;32m      4\u001b[0m \u001b[0mplt\u001b[0m\u001b[0;34m.\u001b[0m\u001b[0mxticks\u001b[0m\u001b[0;34m(\u001b[0m\u001b[0mrotation\u001b[0m\u001b[0;34m=\u001b[0m\u001b[0;36m0\u001b[0m\u001b[0;34m)\u001b[0m\u001b[0;34m;\u001b[0m\u001b[0;34m\u001b[0m\u001b[0;34m\u001b[0m\u001b[0m\n",
      "\u001b[0;31mTypeError\u001b[0m: 'str' object is not callable"
     ]
    },
    {
     "data": {
      "image/png": "[encoded data removed]",
      "text/plain": [
       "<Figure size 432x288 with 1 Axes>"
      ]
     },
     "metadata": {
      "needs_background": "light"
     },
     "output_type": "display_data"
    }
   ],
   "source": [
    "canceledFlightsPercentage.plot(kind=\"bar\");\n",
    "plt.xlabel(\"Year\")\n",
    "plt.ylabel(\"Percentage\")\n",
    "plt.xticks(rotation=0);"
   ]
  },
  {
   "cell_type": "markdown",
   "metadata": {},
   "source": [
    "After looking at cancellation percentages, we find that year 2007 is still the most year with cancelled flights but not by a big difference."
   ]
  },
  {
   "cell_type": "markdown",
   "metadata": {},
   "source": [
    "What about the reasons of cancelled flights?"
   ]
  },
  {
   "cell_type": "code",
   "execution_count": 391,
   "metadata": {
    "scrolled": true
   },
   "outputs": [
    {
     "data": {
      "text/html": [
       "<div>\n",
       "<style scoped>\n",
       "    .dataframe tbody tr th:only-of-type {\n",
       "        vertical-align: middle;\n",
       "    }\n",
       "\n",
       "    .dataframe tbody tr th {\n",
       "        vertical-align: top;\n",
       "    }\n",
       "\n",
       "    .dataframe thead th {\n",
       "        text-align: right;\n",
       "    }\n",
       "</style>\n",
       "<table border=\"1\" class=\"dataframe\">\n",
       "  <thead>\n",
       "    <tr style=\"text-align: right;\">\n",
       "      <th></th>\n",
       "      <th>Year</th>\n",
       "      <th>Cancelled</th>\n",
       "      <th>CancellationCode</th>\n",
       "    </tr>\n",
       "  </thead>\n",
       "  <tbody>\n",
       "    <tr>\n",
       "      <th>7</th>\n",
       "      <td>2005</td>\n",
       "      <td>1</td>\n",
       "      <td>B</td>\n",
       "    </tr>\n",
       "    <tr>\n",
       "      <th>22</th>\n",
       "      <td>2005</td>\n",
       "      <td>1</td>\n",
       "      <td>B</td>\n",
       "    </tr>\n",
       "    <tr>\n",
       "      <th>23</th>\n",
       "      <td>2005</td>\n",
       "      <td>1</td>\n",
       "      <td>A</td>\n",
       "    </tr>\n",
       "    <tr>\n",
       "      <th>25</th>\n",
       "      <td>2005</td>\n",
       "      <td>1</td>\n",
       "      <td>A</td>\n",
       "    </tr>\n",
       "    <tr>\n",
       "      <th>34</th>\n",
       "      <td>2005</td>\n",
       "      <td>1</td>\n",
       "      <td>B</td>\n",
       "    </tr>\n",
       "  </tbody>\n",
       "</table>\n",
       "</div>"
      ],
      "text/plain": [
       "    Year  Cancelled CancellationCode\n",
       "7   2005          1                B\n",
       "22  2005          1                B\n",
       "23  2005          1                A\n",
       "25  2005          1                A\n",
       "34  2005          1                B"
      ]
     },
     "execution_count": 391,
     "metadata": {},
     "output_type": "execute_result"
    }
   ],
   "source": [
    "cancelReasonsColumns = [\"Year\", \"Cancelled\", \"CancellationCode\"]\n",
    "cancelledFlights_df = df[df.Cancelled == True][cancelReasonsColumns]\n",
    "cancelledFlights_df.head()\n",
    "\n",
    "# reason for cancellation (A = carrier, B = weather, C = NAS, D = security)"
   ]
  },
  {
   "cell_type": "code",
   "execution_count": 392,
   "metadata": {
    "scrolled": true
   },
   "outputs": [
    {
     "data": {
      "image/png": "[encoded data removed]",
      "text/plain": [
       "<Figure size 432x288 with 1 Axes>"
      ]
     },
     "metadata": {
      "needs_background": "light"
     },
     "output_type": "display_data"
    }
   ],
   "source": [
    "cancelledFlights_df.CancellationCode.value_counts().sort_index().plot(kind=\"bar\");\n",
    "plt.xticks(rotation=0);\n",
    "# plt.legend([\"Carrier\", \"Weather\", \"NAS\", \"Security\"])"
   ]
  },
  {
   "cell_type": "code",
   "execution_count": 393,
   "metadata": {},
   "outputs": [
    {
     "data": {
      "text/plain": [
       "A    0.426317\n",
       "B    0.371865\n",
       "C    0.201276\n",
       "D    0.000542\n",
       "Name: CancellationCode, dtype: float64"
      ]
     },
     "execution_count": 393,
     "metadata": {},
     "output_type": "execute_result"
    }
   ],
   "source": [
    "cancelledFlights_df.CancellationCode.value_counts() / canceledFlights.sum()"
   ]
  },
  {
   "cell_type": "markdown",
   "metadata": {},
   "source": [
    "This graph shows that most delays are carriers delays then weather delays. About **80%** of cancelled flights are cancelled because of carriers or weather."
   ]
  },
  {
   "cell_type": "markdown",
   "metadata": {},
   "source": [
    "> Make sure that, after every plot or related series of plots, that you\n",
    "include a Markdown cell with comments about what you observed, and what\n",
    "you plan on investigating next."
   ]
  },
  {
   "cell_type": "markdown",
   "metadata": {},
   "source": [
    "## Bivariate Exploration\n",
    "\n",
    "> In this section, investigate relationships between pairs of variables in your\n",
    "data. Make sure the variables that you cover here have been introduced in some\n",
    "fashion in the previous section (univariate exploration)."
   ]
  },
  {
   "cell_type": "markdown",
   "metadata": {},
   "source": [
    "I have added the `totalDelay` column previosly to the dataset. Let's use it to see whether `DepDelay` or `ArrDelay` is causing the delay most."
   ]
  },
  {
   "cell_type": "code",
   "execution_count": 396,
   "metadata": {},
   "outputs": [
    {
     "data": {
      "image/png": "[encoded data removed]",
      "text/plain": [
       "<Figure size 432x288 with 2 Axes>"
      ]
     },
     "metadata": {
      "needs_background": "light"
     },
     "output_type": "display_data"
    }
   ],
   "source": [
    "flights_sample = df.sample(500, replace=False)\n",
    "\n",
    "delayColumns = [\"DepDelay\", \"ArrDelay\", \"totalDelay\", \"AirTime\"]\n",
    "sb.heatmap(flights_sample[delayColumns].corr(), annot= True, fmt= '.2f', cmap= 'vlag_r', center= 0);"
   ]
  },
  {
   "cell_type": "markdown",
   "metadata": {},
   "source": [
    "From the heatmap above, we see that both departure delay and arrival delay are controbuting almost exactly to the total delay."
   ]
  },
  {
   "cell_type": "markdown",
   "metadata": {},
   "source": [
    "Let's see how flights are operated through different carriers. Which carriers focus on long or short flights."
   ]
  },
  {
   "cell_type": "code",
   "execution_count": 198,
   "metadata": {},
   "outputs": [
    {
     "data": {
      "image/png": "[encoded data removed]",
      "text/plain": [
       "<Figure size 1080x360 with 1 Axes>"
      ]
     },
     "metadata": {
      "needs_background": "light"
     },
     "output_type": "display_data"
    }
   ],
   "source": [
    "carrierDelay = df.sample(100000, replace=False)\n",
    "plt.figure(figsize = [15, 5])\n",
    "base_color = sb.color_palette()[3]\n",
    "sb.violinplot(data=carrierDelay, x=\"UniqueCarrier\", y=\"Distance\", inner=None, color=base_color);"
   ]
  },
  {
   "cell_type": "markdown",
   "metadata": {},
   "source": [
    "From the graph above, we see that most carriers tend to operate flights that are less than 1000 miles. \n",
    "Carriers focusing only on short flights are: MQ, YV, OH, EV, OO, 9E, DH\n",
    "\n",
    "Carriers UA, CO, B6. HP and TZ tend to have more diversed flights (short and long flights)\n",
    "\n",
    "Carriers UA, DL, AA, NW and CO are the only carriers who operate very long flights (> 3500 miles)"
   ]
  },
  {
   "cell_type": "markdown",
   "metadata": {},
   "source": [
    "## Multivariate Exploration\n",
    "\n",
    "> Create plots of three or more variables to investigate your data even\n",
    "further. Make sure that your investigations are justified, and follow from\n",
    "your work in the previous sections."
   ]
  },
  {
   "cell_type": "markdown",
   "metadata": {},
   "source": [
    "#### FInd the relation between delay and AirTime for all carriers"
   ]
  },
  {
   "cell_type": "code",
   "execution_count": 276,
   "metadata": {},
   "outputs": [
    {
     "data": {
      "text/plain": [
       "Origin  Dest\n",
       "SAN     LAX     53834\n",
       "LAX     SAN     53801\n",
       "        LAS     52241\n",
       "LAS     LAX     51185\n",
       "BOS     LGA     49848\n",
       "LGA     BOS     49816\n",
       "OGG     HNL     49452\n",
       "HNL     OGG     48971\n",
       "DCA     LGA     47516\n",
       "LGA     DCA     47469\n",
       "dtype: int64"
      ]
     },
     "execution_count": 276,
     "metadata": {},
     "output_type": "execute_result"
    }
   ],
   "source": [
    "df_m = df.groupby([\"Origin\", \"Dest\"])\n",
    "df_m.size().sort_values(ascending=False)[0:10]"
   ]
  },
  {
   "cell_type": "markdown",
   "metadata": {},
   "source": [
    "The most frequesnt flight is from SAN to LAX.\n",
    "Let's see how the delay here affects the air time for all carriers"
   ]
  },
  {
   "cell_type": "code",
   "execution_count": 286,
   "metadata": {},
   "outputs": [],
   "source": [
    "most_frequent_flight_df = df.loc[(df.Origin == \"SAN\") & (df.Dest == \"LAX\") & (df.Cancelled == 0)]"
   ]
  },
  {
   "cell_type": "code",
   "execution_count": 287,
   "metadata": {},
   "outputs": [
    {
     "name": "stdout",
     "output_type": "stream",
     "text": [
      "<class 'pandas.core.frame.DataFrame'>\n",
      "Int64Index: 52863 entries, 203993 to 6817663\n",
      "Data columns (total 19 columns):\n",
      "Year                 52863 non-null category\n",
      "Month                52863 non-null int64\n",
      "DayofMonth           52863 non-null int64\n",
      "DayOfWeek            52863 non-null int64\n",
      "UniqueCarrier        52863 non-null object\n",
      "AirTime              52860 non-null float64\n",
      "ArrDelay             52860 non-null float64\n",
      "DepDelay             52863 non-null float64\n",
      "Origin               52863 non-null object\n",
      "Dest                 52863 non-null object\n",
      "Distance             52863 non-null int64\n",
      "Cancelled            52863 non-null int64\n",
      "CancellationCode     0 non-null object\n",
      "CarrierDelay         43129 non-null float64\n",
      "WeatherDelay         43129 non-null float64\n",
      "NASDelay             43129 non-null float64\n",
      "SecurityDelay        43129 non-null float64\n",
      "LateAircraftDelay    43129 non-null float64\n",
      "totalDelay           52860 non-null float64\n",
      "dtypes: category(1), float64(9), int64(5), object(4)\n",
      "memory usage: 7.7+ MB\n"
     ]
    }
   ],
   "source": [
    "most_frequent_flight_df.info()"
   ]
  },
  {
   "cell_type": "code",
   "execution_count": 368,
   "metadata": {
    "scrolled": false
   },
   "outputs": [
    {
     "ename": "TypeError",
     "evalue": "'str' object is not callable",
     "output_type": "error",
     "traceback": [
      "\u001b[0;31m---------------------------------------------------------------------------\u001b[0m",
      "\u001b[0;31mTypeError\u001b[0m                                 Traceback (most recent call last)",
      "\u001b[0;32m<ipython-input-368-df86204d1a9d>\u001b[0m in \u001b[0;36m<module>\u001b[0;34m\u001b[0m\n\u001b[1;32m      3\u001b[0m \u001b[0mg\u001b[0m \u001b[0;34m=\u001b[0m \u001b[0mg\u001b[0m\u001b[0;34m.\u001b[0m\u001b[0mmap\u001b[0m\u001b[0;34m(\u001b[0m\u001b[0msb\u001b[0m\u001b[0;34m.\u001b[0m\u001b[0mregplot\u001b[0m\u001b[0;34m,\u001b[0m \u001b[0;34m\"DepDelay\"\u001b[0m\u001b[0;34m,\u001b[0m \u001b[0;34m\"AirTime\"\u001b[0m\u001b[0;34m,\u001b[0m \u001b[0mfit_reg\u001b[0m\u001b[0;34m=\u001b[0m\u001b[0;32mFalse\u001b[0m\u001b[0;34m,\u001b[0m \u001b[0;34m)\u001b[0m\u001b[0;34m\u001b[0m\u001b[0;34m\u001b[0m\u001b[0m\n\u001b[1;32m      4\u001b[0m \u001b[0mg\u001b[0m\u001b[0;34m.\u001b[0m\u001b[0madd_legend\u001b[0m\u001b[0;34m(\u001b[0m\u001b[0;34m)\u001b[0m\u001b[0;34m\u001b[0m\u001b[0;34m\u001b[0m\u001b[0m\n\u001b[0;32m----> 5\u001b[0;31m \u001b[0mplt\u001b[0m\u001b[0;34m.\u001b[0m\u001b[0mxlabel\u001b[0m\u001b[0;34m(\u001b[0m\u001b[0;34m'Departure Delay (m)'\u001b[0m\u001b[0;34m)\u001b[0m\u001b[0;34m\u001b[0m\u001b[0;34m\u001b[0m\u001b[0m\n\u001b[0m\u001b[1;32m      6\u001b[0m \u001b[0mplt\u001b[0m\u001b[0;34m.\u001b[0m\u001b[0mylabel\u001b[0m\u001b[0;34m(\u001b[0m\u001b[0;34m'Air TIme (m)'\u001b[0m\u001b[0;34m)\u001b[0m\u001b[0;34m\u001b[0m\u001b[0;34m\u001b[0m\u001b[0m\n\u001b[1;32m      7\u001b[0m \u001b[0mplt\u001b[0m\u001b[0;34m.\u001b[0m\u001b[0mtitle\u001b[0m\u001b[0;34m(\u001b[0m\u001b[0;34m'Effect of departure delay on air time across carriers'\u001b[0m\u001b[0;34m)\u001b[0m\u001b[0;34m;\u001b[0m\u001b[0;34m\u001b[0m\u001b[0;34m\u001b[0m\u001b[0m\n",
      "\u001b[0;31mTypeError\u001b[0m: 'str' object is not callable"
     ]
    },
    {
     "data": {
      "image/png": "[encoded data removed]",
      "text/plain": [
       "<Figure size 653.875x288 with 1 Axes>"
      ]
     },
     "metadata": {
      "needs_background": "light"
     },
     "output_type": "display_data"
    }
   ],
   "source": [
    "most_frequent_flight_df_sample = most_frequent_flight_df.sample(3000, replace=False)\n",
    "g = sb.FacetGrid(data=most_frequent_flight_df, hue=\"UniqueCarrier\", height=4, aspect=2)\n",
    "g = g.map(sb.regplot, \"DepDelay\", \"AirTime\", fit_reg=False, )\n",
    "g.add_legend()\n",
    "plt.xlabel('Departure Delay (m)')\n",
    "plt.ylabel('Air TIme (m)')\n",
    "plt.title('Effect of departure delay on air time across carriers');"
   ]
  },
  {
   "cell_type": "markdown",
   "metadata": {},
   "source": [
    "> Flights with low delay tend to have more propbability of higher AirTime. About 0.2% of flight with departure delay > 200 minutes, have almost consistent air time of approximately 28 minutes."
   ]
  },
  {
   "cell_type": "code",
   "execution_count": 371,
   "metadata": {},
   "outputs": [
    {
     "data": {
      "image/png": "[encoded data removed]",
      "text/plain": [
       "<Figure size 797.875x360 with 1 Axes>"
      ]
     },
     "metadata": {
      "needs_background": "light"
     },
     "output_type": "display_data"
    }
   ],
   "source": [
    "g = sb.FacetGrid(data=most_frequent_flight_df, hue=\"UniqueCarrier\", height=5, aspect=2)\n",
    "g = g.map(sb.regplot, \"DepDelay\", \"AirTime\", fit_reg=False, )\n",
    "g.add_legend()\n",
    "plt.xlim([-60, 200]);"
   ]
  },
  {
   "cell_type": "markdown",
   "metadata": {},
   "source": [
    "Zooming to flights with less than 200 minutes departure delay, we see that air time becomes more stable as the flght gets delayed"
   ]
  },
  {
   "cell_type": "code",
   "execution_count": 314,
   "metadata": {
    "scrolled": true
   },
   "outputs": [
    {
     "data": {
      "text/plain": [
       "UniqueCarrier\n",
       "MQ    25832\n",
       "OO    26811\n",
       "UA        4\n",
       "XE      216\n",
       "dtype: int64"
      ]
     },
     "execution_count": 314,
     "metadata": {},
     "output_type": "execute_result"
    }
   ],
   "source": [
    "most_frequent_flight_df.groupby(\"UniqueCarrier\").size()"
   ]
  },
  {
   "cell_type": "markdown",
   "metadata": {},
   "source": [
    "Count of flights per carrier"
   ]
  },
  {
   "cell_type": "code",
   "execution_count": 372,
   "metadata": {},
   "outputs": [
    {
     "data": {
      "text/html": [
       "<div>\n",
       "<style scoped>\n",
       "    .dataframe tbody tr th:only-of-type {\n",
       "        vertical-align: middle;\n",
       "    }\n",
       "\n",
       "    .dataframe tbody tr th {\n",
       "        vertical-align: top;\n",
       "    }\n",
       "\n",
       "    .dataframe thead th {\n",
       "        text-align: right;\n",
       "    }\n",
       "</style>\n",
       "<table border=\"1\" class=\"dataframe\">\n",
       "  <thead>\n",
       "    <tr style=\"text-align: right;\">\n",
       "      <th></th>\n",
       "      <th>DepDelay</th>\n",
       "      <th>AirTime</th>\n",
       "    </tr>\n",
       "  </thead>\n",
       "  <tbody>\n",
       "    <tr>\n",
       "      <th>count</th>\n",
       "      <td>52863.000000</td>\n",
       "      <td>52860.000000</td>\n",
       "    </tr>\n",
       "    <tr>\n",
       "      <th>mean</th>\n",
       "      <td>1.417362</td>\n",
       "      <td>28.880401</td>\n",
       "    </tr>\n",
       "    <tr>\n",
       "      <th>std</th>\n",
       "      <td>21.155780</td>\n",
       "      <td>3.318275</td>\n",
       "    </tr>\n",
       "    <tr>\n",
       "      <th>min</th>\n",
       "      <td>-58.000000</td>\n",
       "      <td>0.000000</td>\n",
       "    </tr>\n",
       "    <tr>\n",
       "      <th>25%</th>\n",
       "      <td>-5.000000</td>\n",
       "      <td>27.000000</td>\n",
       "    </tr>\n",
       "    <tr>\n",
       "      <th>50%</th>\n",
       "      <td>-4.000000</td>\n",
       "      <td>29.000000</td>\n",
       "    </tr>\n",
       "    <tr>\n",
       "      <th>75%</th>\n",
       "      <td>0.000000</td>\n",
       "      <td>30.000000</td>\n",
       "    </tr>\n",
       "    <tr>\n",
       "      <th>max</th>\n",
       "      <td>876.000000</td>\n",
       "      <td>81.000000</td>\n",
       "    </tr>\n",
       "  </tbody>\n",
       "</table>\n",
       "</div>"
      ],
      "text/plain": [
       "           DepDelay       AirTime\n",
       "count  52863.000000  52860.000000\n",
       "mean       1.417362     28.880401\n",
       "std       21.155780      3.318275\n",
       "min      -58.000000      0.000000\n",
       "25%       -5.000000     27.000000\n",
       "50%       -4.000000     29.000000\n",
       "75%        0.000000     30.000000\n",
       "max      876.000000     81.000000"
      ]
     },
     "execution_count": 372,
     "metadata": {},
     "output_type": "execute_result"
    }
   ],
   "source": [
    "most_frequent_flight_df[[\"DepDelay\", \"AirTime\"]].describe()"
   ]
  },
  {
   "cell_type": "markdown",
   "metadata": {},
   "source": [
    "75% of flights actually do have a departure delay that is less than zero! (which is pretty interesting!)"
   ]
  },
  {
   "cell_type": "code",
   "execution_count": 399,
   "metadata": {},
   "outputs": [
    {
     "data": {
      "text/plain": [
       "0.9924332709078183"
      ]
     },
     "execution_count": 399,
     "metadata": {},
     "output_type": "execute_result"
    }
   ],
   "source": [
    "most_frequent_flight_df[most_frequent_flight_df.DepDelay < 100].shape[0] / most_frequent_flight_df.shape[0]"
   ]
  },
  {
   "cell_type": "markdown",
   "metadata": {},
   "source": [
    "99.24% of flights have less than 100 minutes departure delay"
   ]
  },
  {
   "cell_type": "code",
   "execution_count": null,
   "metadata": {},
   "outputs": [],
   "source": []
  }
 ],
 "metadata": {
  "kernelspec": {
   "display_name": "Python 3",
   "language": "python",
   "name": "python3"
  },
  "language_info": {
   "codemirror_mode": {
    "name": "ipython",
    "version": 3
   },
   "file_extension": ".py",
   "mimetype": "text/x-python",
   "name": "python",
   "nbconvert_exporter": "python",
   "pygments_lexer": "ipython3",
   "version": "3.7.2"
  }
 },
 "nbformat": 4,
 "nbformat_minor": 2
}
